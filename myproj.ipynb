{
 "cells": [
  {
   "cell_type": "code",
   "execution_count": 4,
   "id": "72cef232",
   "metadata": {},
   "outputs": [
    {
     "name": "stdout",
     "output_type": "stream",
     "text": [
      "Name:Jenny\n",
      "English Score:94\n",
      "Chinese Score:58\n",
      "Name:Smart\n",
      "English Score:97\n",
      "Chinese Score:84\n",
      "Name:Killer\n",
      "English Score:99\n",
      "Chinese Score:99\n",
      "Name:Amada\n",
      "English Score:85\n",
      "Chinese Score:55\n",
      "Name:Lisa\n",
      "English Score:84\n",
      "Chinese Score:88\n",
      "Name:Alex\n",
      "English Score:85\n",
      "Chinese Score:45\n",
      "Name:John\n",
      "English Score:74\n",
      "Chinese Score:85\n",
      "Name:\n"
     ]
    }
   ],
   "source": [
    "import sqlite3\n",
    "dbfile = \"nkust.db\"\n",
    "conn = sqlite3.connect(dbfile)\n",
    "stuname = input(\"Name:\")\n",
    "while stuname!=\"\":\n",
    "    eng_score = input(\"English Score:\")\n",
    "    chi_score = input(\"Chinese Score:\")\n",
    "    sql_str = \"insert into score ('name', 'eng', 'chi') values('{}',{},{});\".format(\n",
    "        stuname, eng_score, chi_score)\n",
    "    conn.execute(sql_str)\n",
    "    stuname = input(\"Name:\")\n",
    "conn.commit()\n",
    "conn.close()"
   ]
  },
  {
   "cell_type": "code",
   "execution_count": null,
   "id": "c7e2cd80",
   "metadata": {},
   "outputs": [],
   "source": []
  },
  {
   "cell_type": "code",
   "execution_count": null,
   "id": "9b108400",
   "metadata": {},
   "outputs": [],
   "source": []
  }
 ],
 "metadata": {
  "kernelspec": {
   "display_name": "Python 3 (ipykernel)",
   "language": "python",
   "name": "python3"
  },
  "language_info": {
   "codemirror_mode": {
    "name": "ipython",
    "version": 3
   },
   "file_extension": ".py",
   "mimetype": "text/x-python",
   "name": "python",
   "nbconvert_exporter": "python",
   "pygments_lexer": "ipython3",
   "version": "3.10.11"
  }
 },
 "nbformat": 4,
 "nbformat_minor": 5
}
