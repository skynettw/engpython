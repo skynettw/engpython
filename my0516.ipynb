{
 "cells": [
  {
   "cell_type": "code",
   "execution_count": 6,
   "id": "963baf00",
   "metadata": {},
   "outputs": [
    {
     "name": "stdout",
     "output_type": "stream",
     "text": [
      "91 352154\n",
      "92 351146\n",
      "93 349149\n",
      "94 347298\n",
      "95 345303\n",
      "96 343302\n",
      "97 341433\n",
      "98 340964\n",
      "99 338805\n",
      "100 336838\n",
      "101 335190\n",
      "102 333897\n",
      "103 333392\n",
      "104 331945\n",
      "105 330911\n",
      "106 329374\n"
     ]
    }
   ],
   "source": [
    "import csv\n",
    "data = list()\n",
    "with open(\"hualien.csv\", \"r\", encoding=\"utf-8\") as fp:\n",
    "    csvdata = csv.DictReader(fp)\n",
    "    for d in csvdata:\n",
    "        data.append((d[\"年度\"], int9d[\"總人口數\"], d[\"總戶數\"]))\n",
    "        "
   ]
  }
 ],
 "metadata": {
  "kernelspec": {
   "display_name": "Python 3 (ipykernel)",
   "language": "python",
   "name": "python3"
  },
  "language_info": {
   "codemirror_mode": {
    "name": "ipython",
    "version": 3
   },
   "file_extension": ".py",
   "mimetype": "text/x-python",
   "name": "python",
   "nbconvert_exporter": "python",
   "pygments_lexer": "ipython3",
   "version": "3.10.11"
  }
 },
 "nbformat": 4,
 "nbformat_minor": 5
}
