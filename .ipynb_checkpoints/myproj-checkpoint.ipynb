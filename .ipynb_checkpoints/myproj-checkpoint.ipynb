{
 "cells": [
  {
   "cell_type": "code",
   "execution_count": 4,
   "id": "8722d08e",
   "metadata": {},
   "outputs": [
    {
     "name": "stdout",
     "output_type": "stream",
     "text": [
      "Name:Jenny\n",
      "English Score:94\n",
      "Chinese Score:58\n",
      "Name:Smart\n",
      "English Score:97\n",
      "Chinese Score:84\n",
      "Name:Killer\n",
      "English Score:99\n",
      "Chinese Score:99\n",
      "Name:Amada\n",
      "English Score:85\n",
      "Chinese Score:55\n",
      "Name:Lisa\n",
      "English Score:84\n",
      "Chinese Score:88\n",
      "Name:Alex\n",
      "English Score:85\n",
      "Chinese Score:45\n",
      "Name:John\n",
      "English Score:74\n",
      "Chinese Score:85\n",
      "Name:\n"
     ]
    }
   ],
   "source": [
    "#建立學生的資料\n",
    "import sqlite3\n",
    "dbfile = \"nkust.db\"\n",
    "conn = sqlite3.connect(dbfile)\n",
    "stuname = input(\"Name:\")\n",
    "while stuname!=\"\":\n",
    "    eng_score = input(\"English Score:\")\n",
    "    chi_score = input(\"Chinese Score:\")\n",
    "    sql_str = \"insert into score ('name', 'eng', 'chi') values('{}',{},{});\".format(\n",
    "        stuname, eng_score, chi_score)\n",
    "    conn.execute(sql_str)\n",
    "    stuname = input(\"Name:\")\n",
    "conn.commit()\n",
    "conn.close()"
   ]
  },
  {
   "cell_type": "code",
   "execution_count": 15,
   "id": "abd20b0b",
   "metadata": {},
   "outputs": [
    {
     "name": "stdout",
     "output_type": "stream",
     "text": [
      "Name\tEng\tChi\tTotal\tAvg\n",
      "Richard\t100\t95\t195\t97.5\t\n",
      "Tom\t85\t94\t179\t89.5\t\n",
      "Mary\t65\t95\t160\t80.0\t\n",
      "Jenny\t94\t58\t152\t76.0\t\n",
      "Smart\t97\t84\t181\t90.5\t\n",
      "Killer\t99\t99\t198\t99.0\t\n",
      "Amada\t85\t55\t140\t70.0\t\n",
      "Lisa\t84\t88\t172\t86.0\t\n",
      "Alex\t85\t45\t130\t65.0\t\n",
      "John\t74\t85\t159\t79.5\t\n"
     ]
    }
   ],
   "source": [
    "#顯示學生的資料\n",
    "import sqlite3\n",
    "dbfile = \"nkust.db\"\n",
    "conn = sqlite3.connect(dbfile)\n",
    "rows = conn.execute(\"select * from score;\")\n",
    "data = list()\n",
    "for row in rows:\n",
    "    temp = (row[1], row[2], row[3], row[2]+row[3], (row[2]+row[3])/2)\n",
    "    data.append(temp)\n",
    "conn.close()\n",
    "print(\"Name\\tEng\\tChi\\tTotal\\tAvg\")\n",
    "for d in data:\n",
    "    for k in d:\n",
    "        print(\"{}\\t\".format(k), end=\"\")\n",
    "    print()"
   ]
  },
  {
   "cell_type": "code",
   "execution_count": null,
   "id": "82e14edc",
   "metadata": {},
   "outputs": [],
   "source": []
  }
 ],
 "metadata": {
  "kernelspec": {
   "display_name": "Python 3 (ipykernel)",
   "language": "python",
   "name": "python3"
  },
  "language_info": {
   "codemirror_mode": {
    "name": "ipython",
    "version": 3
   },
   "file_extension": ".py",
   "mimetype": "text/x-python",
   "name": "python",
   "nbconvert_exporter": "python",
   "pygments_lexer": "ipython3",
   "version": "3.10.11"
  }
 },
 "nbformat": 4,
 "nbformat_minor": 5
}
