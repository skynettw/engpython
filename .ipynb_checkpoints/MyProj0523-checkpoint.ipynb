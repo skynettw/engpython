{
 "cells": [
  {
   "cell_type": "code",
   "execution_count": 1,
   "id": "03bce986",
   "metadata": {},
   "outputs": [],
   "source": [
    "import requests\n",
    "from bs4 import BeautifulSoup\n",
    "url = \"https://www.nkust.edu.tw/p/406-1000-69684,r1363.php\"\n",
    "html = requests.get(url).text"
   ]
  },
  {
   "cell_type": "code",
   "execution_count": 10,
   "id": "b06a213a",
   "metadata": {},
   "outputs": [
    {
     "data": {
      "text/plain": [
       "'2050年前全球達到淨零排放的目標，現已為世界各國的重點發展政策。全球企業在工業的領域上，業已進入綠色工業革命的時代。國立高雄科技大學串連校內各領域教師之創新科研成果，並集結於參與「2023高雄自動化工業展」，在高雄展覽館設立高科大專區，展出涵蓋產業機械、永續能源、低碳製程、循環經濟、負碳技術及創新發明等33件教師研發技術與設備，除協助參觀廠商民眾了解淨零永續的趨勢，也積極開拓可加入產學輔導或技轉的企業對象。\\n\\n今年展出技術，涵蓋產業機械設備以及創新發明，多項作品均高度應用資訊收集、判讀等AI應用，例如具生醫檢測之智慧翻身輔具；影像辨識自動化多樣本化學檢測系統；神經網路視覺辨識應用於複合材料FRP之VARTM製程樹脂瞬時流速觀測；可線上量測並紀錄刀刃即時變化情況的智慧刀把等。特別是後者智慧刀把，使用在金屬切削加工上，不少需要精密加工的高值產品均可受惠，智慧刀把可同時確認加工件的加工成品品質、回饋刀具的狀態以利產線做出及時替換，減少產品問題或刀具損壞等成本損失。\\n\\n智慧刀把研發老師為高科大電機系教授楊浩青，他表示智慧刀把對高價值、高精密的加工領域非常重要，根據實際統計，由於擔心產品失敗率而導致刀具的替換率過高，正確回推的話，淘汰刀具的剩餘價值甚至最多高達85%。因此智慧刀把除可有效確保加工品質外，也能精準掌握刀具狀況充分發揮刀具使用價值，並且減少操作人員擔心損壞高成本工具及產品的心理壓力。據了解，以德國生產的類似產品而言，售價高達台幣50萬元，由高科大自主開發的智慧刀把，從硬體部件到軟體開發，完全台灣自產，有非常雄厚的售價優勢，對精密加工業者而言是一大福音。\\n\\n其它還包含強化火場逃生及滅火的目的的輔助滅火窗、煙室人員透氣逃生窗等發明，正呼應近期消防法保障消防人員權益的修法方向，並且可提高滅火效率，實現「不進火場、有效輔助打火」的目標。另外可純生物分解的高分子聚合物、碳纖維回收料的技術、微奈米氣泡浮除及清洗系統、無爆炸疑慮的安全儲電系統、電解產氫、海水發電產氫等等，均高度呼應當前環境保護、淨零探排、能源永續的重要趨勢。高科大校長楊慶煜表示，產業的升級與轉型也是高科大實踐社會責任的重要一環，任何創新研發、技術移轉、產學合作等相關產業需求，高科大都非常樂意與企業站在一起，共同提升台灣產業競爭力。高雄自動化工業展將展出至本週六 (5月20日)，於高雄展覽館展出。'"
      ]
     },
     "execution_count": 10,
     "metadata": {},
     "output_type": "execute_result"
    }
   ],
   "source": [
    "soup = BeautifulSoup(html, \"html.parser\")\n",
    "sel = \"#Dyn_2_3 > div.module.module-detail.md_style1 > div > section > div.mcont > div.mpgdetail > p\"\n",
    "content = soup.select(sel)\n",
    "data = content[0]\n",
    "data.text"
   ]
  },
  {
   "cell_type": "code",
   "execution_count": null,
   "id": "164f0629",
   "metadata": {},
   "outputs": [],
   "source": []
  }
 ],
 "metadata": {
  "kernelspec": {
   "display_name": "Python 3 (ipykernel)",
   "language": "python",
   "name": "python3"
  },
  "language_info": {
   "codemirror_mode": {
    "name": "ipython",
    "version": 3
   },
   "file_extension": ".py",
   "mimetype": "text/x-python",
   "name": "python",
   "nbconvert_exporter": "python",
   "pygments_lexer": "ipython3",
   "version": "3.10.11"
  }
 },
 "nbformat": 4,
 "nbformat_minor": 5
}
