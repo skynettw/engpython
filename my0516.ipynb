{
 "cells": [
  {
   "cell_type": "code",
   "execution_count": 10,
   "id": "8d58939a",
   "metadata": {},
   "outputs": [
    {
     "name": "stdout",
     "output_type": "stream",
     "text": [
      "91 352154 109231\n",
      "92 351146 110985\n",
      "93 349149 112948\n",
      "94 347298 114220\n",
      "95 345303 115378\n",
      "96 343302 116766\n",
      "97 341433 118073\n",
      "98 340964 119916\n",
      "99 338805 120903\n",
      "100 336838 121833\n",
      "101 335190 122651\n",
      "102 333897 123440\n",
      "103 333392 124243\n",
      "104 331945 124956\n",
      "105 330911 125361\n",
      "106 329374 125901\n"
     ]
    }
   ],
   "source": [
    "import csv\n",
    "import sqlite3\n",
    "data = list()\n",
    "with open(\"hualien.csv\", \"r\", encoding=\"utf-8\") as fp:\n",
    "    csvdata = csv.DictReader(fp)\n",
    "    for d in csvdata:\n",
    "        data.append((d[\"年度\"], int(d[\"總人口數\"]), int(d[\"總戶數\"])))\n",
    "\n",
    "dbfile = \"nkust.db\"\n",
    "conn = sqlite3.connect(dbfile)\n",
    "sql_str = \"delete from population;\"   #刪除population表格中所有的舊資料\n",
    "conn.execute(sql_str);                #真正執行sql指令\n",
    "for d in data:\n",
    "    sql_str = \"insert into population ('yr', 'popu', 'fam') values('{}',{},{});\".format(\n",
    "        d[0], d[1], d[2])\n",
    "    conn.execute(sql_str)\n",
    "    print(d[0], d[1], d[2])\n",
    "conn.commit()\n",
    "conn.close()"
   ]
  },
  {
   "cell_type": "code",
   "execution_count": 15,
   "id": "7c9c4108",
   "metadata": {},
   "outputs": [
    {
     "data": {
      "text/plain": [
       "1000"
      ]
     },
     "execution_count": 15,
     "metadata": {},
     "output_type": "execute_result"
    }
   ],
   "source": [
    "import requests\n",
    "import json\n",
    "url = \"https://raw.githubusercontent.com/chinese-poetry/chinese-poetry/master/%E5%85%A8%E5%94%90%E8%AF%97/poet.song.105000.json\"\n",
    "\n",
    "jtext = requests.get(url).text\n",
    "data = json.loads(jtext)\n",
    "len(data)"
   ]
  }
 ],
 "metadata": {
  "kernelspec": {
   "display_name": "Python 3 (ipykernel)",
   "language": "python",
   "name": "python3"
  },
  "language_info": {
   "codemirror_mode": {
    "name": "ipython",
    "version": 3
   },
   "file_extension": ".py",
   "mimetype": "text/x-python",
   "name": "python",
   "nbconvert_exporter": "python",
   "pygments_lexer": "ipython3",
   "version": "3.10.11"
  }
 },
 "nbformat": 4,
 "nbformat_minor": 5
}
